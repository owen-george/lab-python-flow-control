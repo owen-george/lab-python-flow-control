{
 "cells": [
  {
   "cell_type": "markdown",
   "id": "d3bfc191-8885-42ee-b0a0-bbab867c6f9f",
   "metadata": {
    "tags": []
   },
   "source": [
    "# Lab | Flow Control"
   ]
  },
  {
   "cell_type": "markdown",
   "id": "3851fcd1-cf98-4653-9c89-e003b7ec9400",
   "metadata": {},
   "source": [
    "## Exercise: Managing Customer Orders Optimized\n",
    "\n",
    "In the last lab, you were starting an online store that sells various products. To ensure smooth operations, you developed a program that manages customer orders and inventory.\n",
    "\n",
    "You did so without using flow control. Let's go a step further and improve this code.\n",
    "\n",
    "Follow the steps below to complete the exercise:\n",
    "\n",
    "1. Look at your code from the lab data structures, and improve repeated code with loops.\n",
    "\n",
    "2. Instead of asking the user to input the name of three products that a customer wants to order, do the following:\n",
    "    \n",
    "    a. Prompt the user to enter the name of a product that a customer wants to order.\n",
    "    \n",
    "    b. Add the product name to the \"customer_orders\" set.\n",
    "    \n",
    "    c. Ask the user if they want to add another product (yes/no).\n",
    "    \n",
    "    d. Continue the loop until the user does not want to add another product.\n",
    "\n",
    "3. Instead of updating the inventory by subtracting 1 from the quantity of each product, only do it for  the products that were ordered (those in \"customer_orders\")."
   ]
  },
  {
   "cell_type": "code",
   "execution_count": 2,
   "id": "a4e8182f-3db2-4db6-82c4-e4b6d29c8df5",
   "metadata": {},
   "outputs": [
    {
     "name": "stdin",
     "output_type": "stream",
     "text": [
      "Enter value for t-shirt: 10\n",
      "Enter value for mug: 20\n",
      "Enter value for hat: 30\n",
      "Enter value for book: 40\n",
      "Enter value for keychain: 50\n"
     ]
    }
   ],
   "source": [
    "#1. Look at your code from the lab data structures, and improve repeated code with loops.\n",
    "products = [\"t-shirt\", \"mug\", \"hat\", \"book\", \"keychain\"]\n",
    "inventory = {}\n",
    "\n",
    "for prod in products:\n",
    "    quantity = input(\"Enter value for \" + prod + \":\")\n",
    "    inventory[prod] = int(quantity)"
   ]
  },
  {
   "cell_type": "code",
   "execution_count": 4,
   "id": "b5975cc2-3351-4d51-bf4e-f1db86e697a7",
   "metadata": {},
   "outputs": [
    {
     "name": "stdout",
     "output_type": "stream",
     "text": [
      "Input 3 products to order:\n"
     ]
    },
    {
     "name": "stdin",
     "output_type": "stream",
     "text": [
      "Product 1 from ['t-shirt', 'mug', 'hat', 'book', 'keychain']: mug\n",
      "Product 2 from ['t-shirt', 'mug', 'hat', 'book', 'keychain']: hat\n",
      "Product 3 from ['t-shirt', 'mug', 'hat', 'book', 'keychain']: book\n"
     ]
    }
   ],
   "source": [
    "customer_orders = set()\n",
    "\n",
    "print(\"Input 3 products to order:\")\n",
    "while len(customer_orders) < 3:\n",
    "    product = input(\"Product \" + str(len(customer_orders) + 1) + \" from \" + str(products) + \":\").lower()\n",
    "    if product in customer_orders:\n",
    "        print(\"You have already selected \" + product + \". Please add a new item\")\n",
    "    if product in products:\n",
    "        customer_orders.add(product)\n",
    "    else: print(\"Invalid product. Please retry\")"
   ]
  },
  {
   "cell_type": "code",
   "execution_count": 6,
   "id": "1d2b05ea-3bd0-40be-a2ab-76722c182343",
   "metadata": {
    "scrolled": true
   },
   "outputs": [
    {
     "name": "stdout",
     "output_type": "stream",
     "text": [
      "t-shirt: 10\n",
      "mug: 19\n",
      "hat: 29\n",
      "book: 39\n",
      "keychain: 50\n"
     ]
    }
   ],
   "source": [
    "num_ordered = len(customer_orders)\n",
    "pct_ordered = 100 * len(customer_orders) / len(products) \n",
    "order_status = (num_ordered, pct_ordered)\n",
    "\n",
    "for order in customer_orders:\n",
    "    if order in inventory:\n",
    "        inventory[order] -= 1\n",
    "\n",
    "for key, value in inventory.items():\n",
    "    print(str(key) + \": \" + str(value))"
   ]
  },
  {
   "cell_type": "raw",
   "id": "4b5c086e-e27e-4cc4-be10-e28169c99b2f",
   "metadata": {},
   "source": [
    "#2. Instead of asking the user to input the name of three products that a customer wants to order, do the following:\n",
    "#a. Prompt the user to enter the name of a product that a customer wants to order.\n",
    "#b. Add the product name to the \"customer_orders\" set.\n",
    "#c. Ask the user if they want to add another product (yes/no).\n",
    "#d. Continue the loop until the user does not want to add another product."
   ]
  },
  {
   "cell_type": "code",
   "execution_count": 37,
   "id": "9b9a6803-fc41-4ab8-8400-7162bc22079c",
   "metadata": {},
   "outputs": [
    {
     "name": "stdin",
     "output_type": "stream",
     "text": [
      "What product do you want to order from this list:['t-shirt', 'mug', 'hat', 'book', 'keychain'] mug\n",
      "Would you like to place another order? (y/n): y\n",
      "What product do you want to order from this list:['t-shirt', 'mug', 'hat', 'book', 'keychain'] mug\n",
      "Would you like to place another order? (y/n): y\n",
      "What product do you want to order from this list:['t-shirt', 'mug', 'hat', 'book', 'keychain'] hat\n",
      "Would you like to place another order? (y/n): y\n",
      "What product do you want to order from this list:['t-shirt', 'mug', 'hat', 'book', 'keychain'] keychain\n",
      "Would you like to place another order? (y/n): n\n"
     ]
    },
    {
     "name": "stdout",
     "output_type": "stream",
     "text": [
      "Thanks for ordering\n"
     ]
    }
   ],
   "source": [
    "customer_orders = set()\n",
    "\n",
    "again = \"y\"\n",
    "\n",
    "while again == \"y\":\n",
    "    product = input(\"What product do you want to order from this list:\" + str(products)).lower().strip()\n",
    "    if product in products:\n",
    "        customer_orders.add(product)\n",
    "    else:\n",
    "        while product not in products:\n",
    "            product = input(\"Please only select a product from this list:\" + str(products)).lower().strip()\n",
    "    again = input(\"Would you like to place another order? (y/n):\").lower()\n",
    "    while again != \"y\" and again != \"n\":\n",
    "        again = input(\"Please only input 'y' or 'n'. Would you like to place another order?\").lower().strip()\n",
    "\n",
    "print(\"Thanks for ordering\")    "
   ]
  },
  {
   "cell_type": "raw",
   "id": "0430119b-6834-48cb-82a9-2e842c877ea6",
   "metadata": {},
   "source": [
    "3. Instead of updating the inventory by subtracting 1 from the quantity of each product, \n",
    "only do it for the products that were ordered (those in \"customer_orders\")."
   ]
  },
  {
   "cell_type": "code",
   "execution_count": 41,
   "id": "3d3c77dd-959e-47aa-bac0-d6e9c483ed9d",
   "metadata": {},
   "outputs": [
    {
     "name": "stdout",
     "output_type": "stream",
     "text": [
      "t-shirt: 10\n",
      "mug: 18\n",
      "hat: 28\n",
      "book: 39\n",
      "keychain: 49\n"
     ]
    }
   ],
   "source": [
    "for order in customer_orders:\n",
    "    if order in inventory:\n",
    "        inventory[order] -= 1\n",
    "\n",
    "for key, value in inventory.items():\n",
    "    print(str(key) + \": \" + str(value))"
   ]
  },
  {
   "cell_type": "code",
   "execution_count": null,
   "id": "5760708c-3728-4ff9-9b19-5fec48dddab5",
   "metadata": {},
   "outputs": [],
   "source": []
  }
 ],
 "metadata": {
  "kernelspec": {
   "display_name": "Python 3 (ipykernel)",
   "language": "python",
   "name": "python3"
  },
  "language_info": {
   "codemirror_mode": {
    "name": "ipython",
    "version": 3
   },
   "file_extension": ".py",
   "mimetype": "text/x-python",
   "name": "python",
   "nbconvert_exporter": "python",
   "pygments_lexer": "ipython3",
   "version": "3.12.4"
  }
 },
 "nbformat": 4,
 "nbformat_minor": 5
}
